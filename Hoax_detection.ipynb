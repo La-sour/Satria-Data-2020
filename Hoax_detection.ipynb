{
  "nbformat": 4,
  "nbformat_minor": 0,
  "metadata": {
    "colab": {
      "name": "Flare_team.ipynb",
      "provenance": []
    },
    "kernelspec": {
      "name": "python3",
      "display_name": "Python 3"
    }
  },
  "cells": [
    {
      "cell_type": "code",
      "metadata": {
        "id": "l1SLf0Cv8FMf"
      },
      "source": [
        "import tensorflow as tf\n",
        "from tensorflow.keras.optimizers import RMSprop\n",
        "from tensorflow.keras.preprocessing.image import ImageDataGenerator\n",
        "from sklearn.model_selection import train_test_split\n",
        "import matplotlib.pyplot as plt\n",
        "import numpy as np\n",
        "import cv2\n",
        "import os"
      ],
      "execution_count": null,
      "outputs": []
    },
    {
      "cell_type": "code",
      "metadata": {
        "id": "XWtlja-W9BfT",
        "colab": {
          "base_uri": "https://localhost:8080/",
          "height": 34
        },
        "outputId": "ba996262-eedc-472b-fb71-604966b0c7d6"
      },
      "source": [
        "print(tf.__version__)"
      ],
      "execution_count": null,
      "outputs": [
        {
          "output_type": "stream",
          "text": [
            "2.3.0\n"
          ],
          "name": "stdout"
        }
      ]
    },
    {
      "cell_type": "code",
      "metadata": {
        "id": "AIXX-Iyh9DqG",
        "colab": {
          "base_uri": "https://localhost:8080/",
          "height": 85
        },
        "outputId": "79fa8c08-9a1e-49f0-ccad-dfd2569b4751"
      },
      "source": [
        "pip install split_folders"
      ],
      "execution_count": null,
      "outputs": [
        {
          "output_type": "stream",
          "text": [
            "Collecting split_folders\n",
            "  Downloading https://files.pythonhosted.org/packages/d1/4b/7b282b0f9319189d71e803220748929b37d019b67b1782d14c59cb1bd940/split_folders-0.4.2-py3-none-any.whl\n",
            "Installing collected packages: split-folders\n",
            "Successfully installed split-folders-0.4.2\n"
          ],
          "name": "stdout"
        }
      ]
    },
    {
      "cell_type": "code",
      "metadata": {
        "id": "0BPl_m2T9cAe",
        "colab": {
          "base_uri": "https://localhost:8080/",
          "height": 34
        },
        "outputId": "66092157-a131-4109-b666-de989b71edf3"
      },
      "source": [
        "from google.colab import drive\n",
        "drive.mount('/content/drive/')"
      ],
      "execution_count": null,
      "outputs": [
        {
          "output_type": "stream",
          "text": [
            "Mounted at /content/drive/\n"
          ],
          "name": "stdout"
        }
      ]
    },
    {
      "cell_type": "code",
      "metadata": {
        "id": "PTGy8Lf8Bnmh",
        "colab": {
          "base_uri": "https://localhost:8080/",
          "height": 35
        },
        "outputId": "f74efe30-5016-48ac-8f36-9be486a6e0f9"
      },
      "source": [
        "import zipfile,os\n",
        "from google.colab import drive\n",
        "\n",
        "drive.mount('/content/drive/')\n",
        "\n",
        "zip_ref = zipfile.ZipFile(\"/content/drive/My Drive/IPB/data_Analisis.zip\", 'r')\n",
        "zip_ref.extractall(\"/tmp\")\n",
        "zip_ref.close()"
      ],
      "execution_count": null,
      "outputs": [
        {
          "output_type": "stream",
          "text": [
            "Mounted at /content/drive/\n"
          ],
          "name": "stdout"
        }
      ]
    },
    {
      "cell_type": "code",
      "metadata": {
        "colab": {
          "base_uri": "https://localhost:8080/"
        },
        "id": "IeXQYeqOOSIR",
        "outputId": "f60b849d-02df-4291-d623-735137a65be8"
      },
      "source": [
        "from google.colab import drive\n",
        "drive.mount('/content/drive')"
      ],
      "execution_count": null,
      "outputs": [
        {
          "output_type": "stream",
          "name": "stdout",
          "text": [
            "Mounted at /content/drive\n"
          ]
        }
      ]
    },
    {
      "cell_type": "code",
      "metadata": {
        "id": "sC_vzJu_Bzo5"
      },
      "source": [
        "zip_ref = zipfile.ZipFile(\"/content/drive/My Drive/IPB/data_Analisis.zip\", 'r')\n",
        "zip_ref.extractall(\"/tmp\")\n",
        "zip_ref.close()"
      ],
      "execution_count": null,
      "outputs": []
    },
    {
      "cell_type": "code",
      "metadata": {
        "id": "kJkLjC4bB4ju",
        "colab": {
          "base_uri": "https://localhost:8080/",
          "height": 102
        },
        "outputId": "068861c1-6b79-4ae0-ed1e-e6a13552dc1b"
      },
      "source": [
        "!apt install unzip\n"
      ],
      "execution_count": null,
      "outputs": [
        {
          "output_type": "stream",
          "text": [
            "Reading package lists... Done\n",
            "Building dependency tree       \n",
            "Reading state information... Done\n",
            "unzip is already the newest version (6.0-21ubuntu1).\n",
            "0 upgraded, 0 newly installed, 0 to remove and 11 not upgraded.\n"
          ],
          "name": "stdout"
        }
      ]
    },
    {
      "cell_type": "code",
      "metadata": {
        "id": "E407DWZzB7O4",
        "colab": {
          "base_uri": "https://localhost:8080/",
          "height": 34
        },
        "outputId": "110c8f25-6fa5-462a-ac59-d57fe467e466"
      },
      "source": [
        "!unzip  /content/drive/My Drive/IPB/data_Analisis.zip -d /content/drive/My Drive/IPB/"
      ],
      "execution_count": null,
      "outputs": [
        {
          "output_type": "stream",
          "text": [
            "unzip:  cannot find or open /content/drive/My, /content/drive/My.zip or /content/drive/My.ZIP.\n"
          ],
          "name": "stdout"
        }
      ]
    },
    {
      "cell_type": "code",
      "metadata": {
        "id": "6PDSSeYWCVJl",
        "colab": {
          "base_uri": "https://localhost:8080/",
          "height": 34
        },
        "outputId": "4994dda5-b6f4-411f-a2e5-c44359e3f3d2"
      },
      "source": [
        "!ls \"/content/drive/My Drive/IPB\"\n"
      ],
      "execution_count": null,
      "outputs": [
        {
          "output_type": "stream",
          "text": [
            "data_Analisis.zip\n"
          ],
          "name": "stdout"
        }
      ]
    },
    {
      "cell_type": "code",
      "metadata": {
        "id": "L1myhyBnCdXr"
      },
      "source": [
        "!unzip -q \"/content/drive/My Drive/IPB/data_Analisis.zip\" -d \"/content/drive/My Drive/IPB/\""
      ],
      "execution_count": null,
      "outputs": []
    },
    {
      "cell_type": "code",
      "metadata": {
        "id": "xrh_i8HcCqTG",
        "colab": {
          "base_uri": "https://localhost:8080/",
          "height": 697
        },
        "outputId": "7ee444ce-dbdd-439e-a99e-8c15b9fc8cf2"
      },
      "source": [
        "!ls \"/content/drive/My Drive/IPB/DATA/data_hoax\""
      ],
      "execution_count": null,
      "outputs": [
        {
          "output_type": "stream",
          "text": [
            " 101987.jpg   172130.jpg      591356.jpg   672463.png   758765.jpg   872949.png\n",
            " 103559.jpg   172291.jpg      591484.jpg   673383.png   759839.png   873941.png\n",
            " 106582.jpg   179775.jpg      596922.jpg   673409.png   760847.jpg   876122.jpg\n",
            " 109909.jpg   19657.jpg       598233.jpg   680144.png   763231.png   885900.png\n",
            " 112167.jpg   25064.jpg       600275.png   680578.png   765082.png   886381.jpg\n",
            " 112665.jpg   27051.jpg       608452.png   687656.jpg   766693.jpg   886572.jpg\n",
            " 1129.jpg    '33861(1).jpg'   611514.png   689058.jpg   767439.jpg   890193.png\n",
            " 116636.jpg   33866.jpg       611988.jpg   690192.png   769737.png   892597.jpg\n",
            " 116656.jpg   35240.jpg       614663.jpg   693499.jpg   770719.png   894936.png\n",
            " 120016.jpg   42921.jpg       616377.png   697744.png   77235.jpg    895589.png\n",
            " 123361.jpg   49268.jpg       617172.jpg   698741.png   773285.png   902417.jpg\n",
            " 127769.jpg   51423.jpg       617970.jpg   703686.jpg   782447.png   902702.jpg\n",
            " 128800.jpg   527249.png      621383.jpg   70579.jpg    783752.png   911896.png\n",
            " 128933.jpg   529379.png      622449.jpg   707588.png   790023.png   912560.png\n",
            " 129074.jpg   531089.jpg      622916.png   709672.png   792708.png   914138.jpg\n",
            " 129106.jpg   533770.jpg      625530.png   711321.jpg   795898.jpg   917767.png\n",
            " 131551.jpg   533831.jpg      626045.png   713518.png   799552.jpg   92175.jpg\n",
            " 132856.jpg   542090.png      627547.jpg   714252.png   800100.png   924799.jpg\n",
            " 132956.jpg   543597.jpg      629208.jpg   714286.jpg   805753.jpg   927198.jpg\n",
            " 133305.jpg   54558.jpg       629849.jpg   714932.png   807837.jpg   938387.png\n",
            " 133807.jpg   549963.png      631699.png   718608.png   811226.jpg   940649.png\n",
            " 134564.jpg   550076.png      632082.jpg   723661.png   819403.png   941558.png\n",
            " 135944.jpg   550557.png      637427.jpg   724114.png   821720.jpg   944129.jpg\n",
            " 138016.jpg   554720.jpg      637998.jpg   724662.png   823071.jpg   946773.png\n",
            " 139581.jpg   555907.jpg      639583.png   728674.png   823147.png   947010.jpg\n",
            " 144540.jpg   557638.jpg      640779.jpg   72868.jpg    827976.png   9527.jpg\n",
            " 147947.jpg   561701.png      641477.png   729818.png   830683.png   95739.jpg\n",
            " 148165.jpg   567836.png      644724.png   730262.jpg   831908.jpg   959154.png\n",
            " 148834.jpg   568870.png      649130.png   731900.png   833710.jpg   966580.jpg\n",
            " 150607.jpg   56.jpg\t      650077.jpg   732749.png   842370.jpg   966990.jpg\n",
            " 152480.jpg   570312.jpg      651087.jpg   733156.png   8468.jpg     975564.png\n",
            " 154172.jpg   572817.jpg      653972.jpg   734419.png   849551.png   975795.png\n",
            " 154972.jpg   574599.jpg      656133.png   738032.jpg   850904.png   976655.png\n",
            " 156443.jpg   57723.jpg       657075.png   739194.png   852447.png   981730.jpg\n",
            " 158361.jpg   57813.jpg       658063.png   743161.png   853531.png   987367.png\n",
            " 159264.jpg   57910.jpg       658451.jpg   743946.jpg   854834.png   988198.jpg\n",
            " 160644.jpg   579802.jpg      660077.jpg   747268.png   857504.png   988366.png\n",
            " 164369.jpg   586996.png      660294.jpg   748428.png   863116.png   991611.png\n",
            " 165464.jpg   589228.png      661533.jpg   755018.png   868046.jpg   992733.jpg\n",
            " 168171.jpg   59059.jpg       670954.jpg   756799.png   86996.jpg    99324.jpg\n"
          ],
          "name": "stdout"
        }
      ]
    },
    {
      "cell_type": "code",
      "metadata": {
        "id": "qqbWGmeSDEP1"
      },
      "source": [
        "base_dir = '/content/drive/My Drive/IPB/'\n",
        "\n",
        "#buat train directory\n",
        "train_dir = os.path.join(base_dir, 'train')\n",
        "\n",
        "#buat validation directory\n",
        "validation_dir = os.path.join(base_dir, 'val')"
      ],
      "execution_count": null,
      "outputs": []
    },
    {
      "cell_type": "code",
      "metadata": {
        "id": "AkC9TrhjIyBG"
      },
      "source": [
        "\n",
        "if not os.path.exists(train_dir):\n",
        "    os.mkdir(train_dir)\n",
        "if not os.path.exists(validation_dir):\n",
        "    os.mkdir(validation_dir)"
      ],
      "execution_count": null,
      "outputs": []
    },
    {
      "cell_type": "code",
      "metadata": {
        "id": "tqGIHb6sOP_T"
      },
      "source": [
        "from sklearn.model_selection import train_test_split\n",
        "\n",
        "hoax_dir = os.path.join('/content/drive/My Drive/IPB/DATA/data_hoax')\n",
        "real_dir = os.path.join('/content/drive/My Drive/IPB/DATA/data_real')\n",
        "\n",
        "\n",
        "#memecah directory menjadi train dan validation\n",
        "train_hoax_dir, val_hoax_dir = train_test_split(os.listdir(hoax_dir), test_size = 0.4 )\n",
        "train_real_dir, val_real_dir = train_test_split(os.listdir(real_dir), test_size = 0.4 )"
      ],
      "execution_count": null,
      "outputs": []
    },
    {
      "cell_type": "code",
      "metadata": {
        "id": "D3yGFF5wQ3Jp"
      },
      "source": [
        "train_hoax = os.path.join(train_dir, 'hoax')\n",
        "train_real = os.path.join(train_dir, 'real')\n",
        "\n",
        "val_hoax = os.path.join(validation_dir, 'hoax')\n",
        "val_real = os.path.join(validation_dir, 'real')\n",
        "\n"
      ],
      "execution_count": null,
      "outputs": []
    },
    {
      "cell_type": "code",
      "metadata": {
        "id": "dG2nRqw3R-RG"
      },
      "source": [
        "if not os.path.exists(train_hoax):\n",
        "    os.mkdir(train_hoax)\n",
        "if not os.path.exists(train_real):\n",
        "    os.mkdir(train_real)\n",
        "\n",
        "\n",
        "if not os.path.exists(val_hoax):\n",
        "    os.mkdir(val_hoax)\n",
        "if not os.path.exists(val_real):\n",
        "    os.mkdir(val_real)\n"
      ],
      "execution_count": null,
      "outputs": []
    },
    {
      "cell_type": "code",
      "metadata": {
        "id": "oAgtcKtqSt58"
      },
      "source": [
        "import shutil\n",
        "\n",
        "#copy data train ke directory baru\n",
        "for i in train_hoax_dir:\n",
        "    shutil.copy(os.path.join(hoax_dir, i), os.path.join(train_hoax, i))\n",
        "for i in train_real_dir:\n",
        "    shutil.copy(os.path.join(real_dir, i), os.path.join(train_real, i))\n",
        "\n",
        "#copy data validation ke directory baru\n",
        "for i in val_hoax_dir:\n",
        "    shutil.copy(os.path.join(hoax_dir, i), os.path.join(val_hoax, i))\n",
        "for i in val_real_dir:\n",
        "    shutil.copy(os.path.join(real_dir, i), os.path.join(val_real, i))\n"
      ],
      "execution_count": null,
      "outputs": []
    },
    {
      "cell_type": "code",
      "metadata": {
        "id": "qSgEjV-HTvOJ"
      },
      "source": [
        "from tensorflow.keras.preprocessing.image import ImageDataGenerator\n",
        "\n",
        "train_datagen = ImageDataGenerator(\n",
        "    rescale = 1./255,\n",
        "    rotation_range = 20,\n",
        "    horizontal_flip = True,\n",
        "    shear_range=0.2,\n",
        "    fill_mode='nearest',\n",
        ")\n",
        "\n",
        "test_datagen = ImageDataGenerator(\n",
        "    rescale = 1./255,\n",
        "    rotation_range = 20,\n",
        "    horizontal_flip = True,\n",
        "    shear_range = 0.2,\n",
        "    fill_mode = 'nearest'\n",
        ")"
      ],
      "execution_count": null,
      "outputs": []
    },
    {
      "cell_type": "code",
      "metadata": {
        "id": "IRix5kZGUBNo",
        "colab": {
          "base_uri": "https://localhost:8080/",
          "height": 54
        },
        "outputId": "b3369c6e-40c8-4a32-e09d-d131e2e55f0e"
      },
      "source": [
        "train_generator = train_datagen.flow_from_directory(\n",
        "    train_dir,\n",
        "    target_size=(100,150),\n",
        "    shuffle=True,\n",
        "    batch_size=4,\n",
        "    #subset='training',\n",
        "    class_mode='binary'\n",
        ")\n",
        "\n",
        "validation_generator = test_datagen.flow_from_directory(\n",
        "    validation_dir,\n",
        "    target_size=(100,150),\n",
        "    # shuffle=False,\n",
        "    batch_size=4,\n",
        "    #subset='validation',\n",
        "    class_mode='binary',\n",
        ")"
      ],
      "execution_count": null,
      "outputs": [
        {
          "output_type": "stream",
          "text": [
            "Found 194 images belonging to 2 classes.\n",
            "Found 129 images belonging to 2 classes.\n"
          ],
          "name": "stdout"
        }
      ]
    },
    {
      "cell_type": "code",
      "metadata": {
        "id": "OoOQ5_PEU-ZM"
      },
      "source": [
        "import tensorflow as tf\n",
        "from tensorflow.keras.optimizers import RMSprop\n",
        "from tensorflow.keras.preprocessing.image import ImageDataGenerator\n",
        "\n",
        "model = tf.keras.models.Sequential([\n",
        "    tf.keras.layers.Conv2D(32, (3,3), activation='relu', input_shape=(100, 150, 3)),\n",
        "    tf.keras.layers.MaxPooling2D(2,2),\n",
        "    tf.keras.layers.Conv2D(64, (3,3), activation='relu'),\n",
        "    tf.keras.layers.MaxPooling2D(2,2),\n",
        "    tf.keras.layers.Conv2D(28, (3,3), activation='relu'),\n",
        "    tf.keras.layers.MaxPooling2D(2,2),\n",
        "    tf.keras.layers.Conv2D(128, (3,3), activation='relu'),\n",
        "    tf.keras.layers.MaxPooling2D(2,2),\n",
        "    tf.keras.layers.Flatten(),\n",
        "    tf.keras.layers.Dense(512, activation='relu'),\n",
        "    tf.keras.layers.Dense(1, activation='sigmoid')\n",
        "])"
      ],
      "execution_count": null,
      "outputs": []
    },
    {
      "cell_type": "code",
      "metadata": {
        "id": "lDrb2d_5WK6z"
      },
      "source": [
        "model.compile(loss='binary_crossentropy', optimizer='adam', metrics=['accuracy'])"
      ],
      "execution_count": null,
      "outputs": []
    },
    {
      "cell_type": "code",
      "metadata": {
        "id": "es0QtVkFWb1l",
        "colab": {
          "base_uri": "https://localhost:8080/",
          "height": 770
        },
        "outputId": "e8d4258a-4a55-45b8-a024-f9eeec38e30f"
      },
      "source": [
        "model.fit(\n",
        "    train_generator,\n",
        "    steps_per_epoch=25,\n",
        "    epochs=20,\n",
        "    validation_data=validation_generator,\n",
        "    validation_steps=5,\n",
        "    verbose=2\n",
        "    \n",
        ")"
      ],
      "execution_count": null,
      "outputs": [
        {
          "output_type": "stream",
          "text": [
            "Epoch 1/20\n",
            "25/25 - 4s - loss: 0.8840 - accuracy: 0.7857 - val_loss: 0.4352 - val_accuracy: 0.8500\n",
            "Epoch 2/20\n",
            "25/25 - 4s - loss: 0.6598 - accuracy: 0.7000 - val_loss: 0.6557 - val_accuracy: 0.6500\n",
            "Epoch 3/20\n",
            "25/25 - 4s - loss: 0.5443 - accuracy: 0.7900 - val_loss: 0.5071 - val_accuracy: 0.8000\n",
            "Epoch 4/20\n",
            "25/25 - 4s - loss: 0.5979 - accuracy: 0.7143 - val_loss: 0.6161 - val_accuracy: 0.7500\n",
            "Epoch 5/20\n",
            "25/25 - 4s - loss: 0.5820 - accuracy: 0.7551 - val_loss: 0.6050 - val_accuracy: 0.7000\n",
            "Epoch 6/20\n",
            "25/25 - 4s - loss: 0.5475 - accuracy: 0.7400 - val_loss: 0.5955 - val_accuracy: 0.7000\n",
            "Epoch 7/20\n",
            "25/25 - 4s - loss: 0.5184 - accuracy: 0.8100 - val_loss: 0.5017 - val_accuracy: 0.9000\n",
            "Epoch 8/20\n",
            "25/25 - 4s - loss: 0.6128 - accuracy: 0.7200 - val_loss: 0.5828 - val_accuracy: 0.7500\n",
            "Epoch 9/20\n",
            "25/25 - 4s - loss: 0.5934 - accuracy: 0.7000 - val_loss: 0.4807 - val_accuracy: 0.8000\n",
            "Epoch 10/20\n",
            "25/25 - 4s - loss: 0.5017 - accuracy: 0.7755 - val_loss: 0.6226 - val_accuracy: 0.8000\n",
            "Epoch 11/20\n",
            "25/25 - 4s - loss: 0.5845 - accuracy: 0.7143 - val_loss: 0.8019 - val_accuracy: 0.6000\n",
            "Epoch 12/20\n",
            "25/25 - 4s - loss: 0.5127 - accuracy: 0.7857 - val_loss: 0.8959 - val_accuracy: 0.7500\n",
            "Epoch 13/20\n",
            "25/25 - 4s - loss: 0.5607 - accuracy: 0.7449 - val_loss: 0.5538 - val_accuracy: 0.7000\n",
            "Epoch 14/20\n",
            "25/25 - 4s - loss: 0.5804 - accuracy: 0.7041 - val_loss: 0.5559 - val_accuracy: 0.7500\n",
            "Epoch 15/20\n",
            "25/25 - 4s - loss: 0.4687 - accuracy: 0.8163 - val_loss: 0.4199 - val_accuracy: 0.8500\n",
            "Epoch 16/20\n",
            "25/25 - 4s - loss: 0.5733 - accuracy: 0.7500 - val_loss: 0.5673 - val_accuracy: 0.7000\n",
            "Epoch 17/20\n",
            "25/25 - 4s - loss: 0.5518 - accuracy: 0.7400 - val_loss: 0.5048 - val_accuracy: 0.7500\n",
            "Epoch 18/20\n",
            "25/25 - 4s - loss: 0.4721 - accuracy: 0.7857 - val_loss: 0.6145 - val_accuracy: 0.8000\n",
            "Epoch 19/20\n",
            "25/25 - 4s - loss: 0.5140 - accuracy: 0.7500 - val_loss: 1.0291 - val_accuracy: 0.6500\n",
            "Epoch 20/20\n",
            "25/25 - 4s - loss: 0.4560 - accuracy: 0.8300 - val_loss: 1.1516 - val_accuracy: 0.8000\n"
          ],
          "name": "stdout"
        },
        {
          "output_type": "execute_result",
          "data": {
            "text/plain": [
              "<tensorflow.python.keras.callbacks.History at 0x7f13f27990f0>"
            ]
          },
          "metadata": {
            "tags": []
          },
          "execution_count": 31
        }
      ]
    },
    {
      "cell_type": "code",
      "metadata": {
        "id": "AkesD26ebGc6",
        "colab": {
          "resources": {
            "http://localhost:8080/nbextensions/google.colab/files.js": {
              "data": "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",
              "ok": true,
              "headers": [
                [
                  "content-type",
                  "application/javascript"
                ]
              ],
              "status": 200,
              "status_text": "OK"
            }
          },
          "base_uri": "https://localhost:8080/",
          "height": 362
        },
        "outputId": "d1e7f866-d095-4339-cf85-527b0f7a740f"
      },
      "source": [
        "import numpy as np\n",
        "from google.colab import files\n",
        "from keras.preprocessing import image\n",
        "import matplotlib.pyplot as plt\n",
        "import matplotlib.image as mpimg\n",
        "import matplotlib.pyplot as plt\n",
        "import matplotlib.image as mpimg\n",
        "%matplotlib inline\n",
        "\n",
        "uploaded = files.upload()\n",
        "\n",
        "for ml in uploaded.keys():\n",
        "    path = ml\n",
        "    img = image.load_img(path, target_size=(100,150))\n",
        "    imgplot = plt.imshow(img)\n",
        "    x = image.img_to_array(img)\n",
        "    x = np.expand_dims(x, axis=0)\n",
        "\n",
        "    images = np.vstack([x])\n",
        "    jenis = model.predict(images, batch_size=10)\n",
        "\n",
        "    print(ml)\n",
        "    if jenis==0:\n",
        "        print('Ini adalah hoax')\n",
        "    else :\n",
        "        print('ini bukan hoax')\n",
        "    "
      ],
      "execution_count": null,
      "outputs": [
        {
          "output_type": "display_data",
          "data": {
            "text/html": [
              "\n",
              "     <input type=\"file\" id=\"files-e9ebeff4-e505-4e24-bbfa-493ab575792c\" name=\"files[]\" multiple disabled\n",
              "        style=\"border:none\" />\n",
              "     <output id=\"result-e9ebeff4-e505-4e24-bbfa-493ab575792c\">\n",
              "      Upload widget is only available when the cell has been executed in the\n",
              "      current browser session. Please rerun this cell to enable.\n",
              "      </output>\n",
              "      <script src=\"/nbextensions/google.colab/files.js\"></script> "
            ],
            "text/plain": [
              "<IPython.core.display.HTML object>"
            ]
          },
          "metadata": {
            "tags": []
          }
        },
        {
          "output_type": "stream",
          "text": [
            "Saving 1129.jpg to 1129.jpg\n",
            "1129.jpg\n",
            "Ini adalah hoax\n"
          ],
          "name": "stdout"
        },
        {
          "output_type": "display_data",
          "data": {
            "image/png": "[encoded data removed]",
            "text/plain": [
              "<Figure size 432x288 with 1 Axes>"
            ]
          },
          "metadata": {
            "tags": [],
            "needs_background": "light"
          }
        }
      ]
    }
  ]
}